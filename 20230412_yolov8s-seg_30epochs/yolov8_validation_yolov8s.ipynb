{
 "cells": [
  {
   "cell_type": "code",
   "execution_count": 1,
   "metadata": {},
   "outputs": [],
   "source": [
    "# import Metal\n",
    "# import MetalPerformanceShaders as mps\n",
    "from ultralytics import YOLO\n",
    "import torch"
   ]
  },
  {
   "cell_type": "code",
   "execution_count": 2,
   "metadata": {},
   "outputs": [
    {
     "name": "stdout",
     "output_type": "stream",
     "text": [
      "tensor([1.], device='mps:0')\n"
     ]
    }
   ],
   "source": [
    "import torch\n",
    "if torch.backends.mps.is_available():\n",
    "    mps_device = torch.device(\"mps\")\n",
    "    x = torch.ones(1, device=mps_device)\n",
    "    print (x)\n",
    "else:\n",
    "    print (\"MPS device not found.\")"
   ]
  },
  {
   "cell_type": "code",
   "execution_count": 3,
   "metadata": {},
   "outputs": [
    {
     "name": "stderr",
     "output_type": "stream",
     "text": [
      "Ultralytics YOLOv8.0.105 🚀 Python-3.11.3 torch-2.0.1 CPU\n",
      "YOLOv8s-seg summary (fused): 195 layers, 11819461 parameters, 0 gradients, 42.7 GFLOPs\n",
      "\u001b[34m\u001b[1mval: \u001b[0mScanning /Users/marcelosouza/Documents/MBA_USP/5_TCC/Insulin_Suggester/Datasets/food v18.v1i.yolov8/valid/labels... 1625 images, 2 backgrounds, 0 corrupt: 100%|██████████| 1625/1625 [00:00<00:00, 1671.12it/s]\n",
      "\u001b[34m\u001b[1mval: \u001b[0mNew cache created: /Users/marcelosouza/Documents/MBA_USP/5_TCC/Insulin_Suggester/Datasets/food v18.v1i.yolov8/valid/labels.cache\n",
      "                 Class     Images  Instances      Box(P          R      mAP50  mAP50-95)     Mask(P          R      mAP50  mAP50-95): 100%|██████████| 102/102 [15:16<00:00,  8.99s/it]\n",
      "                   all       1625       5830      0.408      0.377      0.355      0.288      0.441      0.349      0.353      0.263\n",
      "          French beans       1625         98      0.637      0.776      0.759      0.664      0.703      0.776      0.754      0.609\n",
      "                almond       1625          3      0.901      0.333      0.336      0.302          1          0      0.336      0.302\n",
      "                 apple       1625         39      0.487      0.292      0.279      0.165      0.535      0.256      0.281      0.158\n",
      "             asparagus       1625         52       0.53      0.635       0.68      0.546      0.555      0.615      0.612      0.491\n",
      "               avocado       1625         20      0.212     0.0545      0.123     0.0917      0.285     0.0428      0.113     0.0849\n",
      "                banana       1625         43      0.492      0.383      0.464      0.368      0.492       0.36      0.432       0.34\n",
      "          bean sprouts       1625          8      0.737      0.375      0.337      0.156      0.623      0.217      0.294      0.115\n",
      "               biscuit       1625         55      0.349      0.496      0.425      0.381      0.349      0.436      0.411       0.35\n",
      "             blueberry       1625         42      0.393      0.643      0.502      0.312      0.343      0.476      0.427      0.199\n",
      "                 bread       1625        321      0.455      0.682      0.589      0.464      0.478      0.639      0.558      0.376\n",
      "              broccoli       1625        239      0.739      0.895      0.882      0.764      0.758      0.887      0.882       0.71\n",
      "               cabbage       1625         29      0.328      0.552      0.499      0.451       0.41      0.574      0.534      0.472\n",
      "                  cake       1625         92      0.436      0.543      0.455      0.337      0.383      0.418      0.356      0.232\n",
      "                carrot       1625        313      0.645      0.796      0.791      0.667      0.682      0.783      0.781      0.598\n",
      "           cauliflower       1625         55      0.428      0.636      0.536      0.412      0.508      0.691      0.617      0.387\n",
      "          celery stick       1625         49      0.385      0.694      0.531      0.428      0.435      0.673      0.509      0.369\n",
      "         cheese butter       1625         96       0.29      0.125      0.116      0.072      0.348     0.0938      0.115     0.0638\n",
      "                cherry       1625         31      0.217      0.258      0.152     0.0785      0.234      0.226      0.163     0.0966\n",
      "          chicken duck       1625        324      0.412      0.531      0.443      0.365      0.434      0.481       0.43      0.336\n",
      "             chocolate       1625         12      0.173      0.167      0.125     0.0736          0          0     0.0632     0.0388\n",
      "         cilantro mint       1625        192       0.45      0.594      0.513      0.404      0.501       0.56      0.504      0.356\n",
      "                coffee       1625         43      0.583      0.767      0.715      0.665      0.594      0.749      0.731      0.618\n",
      "                  corn       1625        121      0.842      0.868       0.88      0.794      0.854      0.872      0.888      0.781\n",
      "                  crab       1625          1          1          0          0          0          1          0      0.497     0.0995\n",
      "              cucumber       1625        125      0.467      0.616       0.54      0.434      0.507        0.6      0.517       0.37\n",
      "                  date       1625          1          1          0          0          0          1          0          0          0\n",
      "     dried cranberries       1625          4          1          0      0.124     0.0391          1          0      0.246     0.0862\n",
      "              egg tart       1625         56      0.471        0.5      0.493      0.413      0.499      0.446      0.494      0.343\n",
      "              eggplant       1625          1          0          0      0.124     0.0995          0          0      0.124      0.124\n",
      "                   fig       1625          2          0          0    0.00406    0.00209          0          0    0.00154   0.000154\n",
      "                  fish       1625         78      0.291      0.564      0.357      0.315      0.321        0.5       0.35      0.282\n",
      "          french fries       1625         68      0.534      0.632      0.635      0.536      0.613      0.628      0.632      0.518\n",
      "            fried meat       1625         71      0.332      0.155      0.139      0.118      0.369      0.141      0.136     0.0998\n",
      "                garlic       1625         17          0          0     0.0456     0.0365          0          0     0.0554     0.0382\n",
      "                ginger       1625          4          0          0     0.0777       0.07          0          0     0.0777     0.0692\n",
      "                 grape       1625         27      0.469      0.623      0.578      0.502      0.514       0.63      0.599      0.505\n",
      "           green beans       1625         43      0.749      0.767      0.799      0.658      0.701      0.674      0.717      0.603\n",
      "               hamburg       1625          1          1          0     0.0216     0.0195          1          0     0.0216    0.00649\n",
      "        hanamaki baozi       1625          8          0          0     0.0346     0.0298          1          0     0.0346     0.0299\n",
      "             ice cream       1625        206      0.541      0.553      0.505      0.381      0.547        0.5      0.467      0.329\n",
      "                 juice       1625         32      0.352      0.562       0.42      0.354      0.405      0.594      0.441      0.319\n",
      "                  kiwi       1625         10      0.469        0.5      0.557       0.45      0.611        0.6      0.618      0.464\n",
      "                  lamb       1625         24      0.146      0.333      0.205      0.164       0.15       0.25      0.172      0.123\n",
      "                 lemon       1625        125      0.458       0.68      0.569      0.467      0.496      0.672      0.595      0.427\n",
      "               lettuce       1625        139      0.417      0.518      0.433       0.28      0.463       0.49      0.415      0.203\n",
      "                 mango       1625          6      0.119      0.167     0.0728      0.062      0.146      0.167     0.0728     0.0587\n",
      "                 melon       1625          3      0.186      0.333      0.374      0.268      0.253      0.333      0.374      0.258\n",
      "                  milk       1625         12      0.591        0.5      0.569      0.412      0.681        0.5      0.553      0.416\n",
      "             milkshake       1625         21      0.382      0.667      0.575      0.512      0.393      0.667      0.575      0.499\n",
      "               noodles       1625         55      0.582      0.691      0.562      0.411      0.593        0.6      0.543      0.356\n",
      "                  okra       1625          1          1          0          0          0          1          0          0          0\n",
      "                olives       1625          7      0.224      0.143      0.133      0.107      0.271      0.143      0.114     0.0945\n",
      "                 onion       1625        123       0.37       0.26      0.207      0.133      0.387       0.22      0.159     0.0865\n",
      "                orange       1625         55      0.411        0.4      0.391      0.307      0.461      0.436      0.421      0.293\n",
      "     other ingredients       1625        105     0.0659     0.0156     0.0164     0.0105     0.0519    0.00952     0.0204    0.00979\n",
      "                 pasta       1625         45      0.504      0.511      0.544       0.48      0.579      0.511       0.53      0.476\n",
      "                 peach       1625          5      0.121        0.4      0.209      0.201       0.14        0.4      0.209      0.192\n",
      "                  pear       1625          4          0          0     0.0326     0.0132          0          0     0.0318     0.0256\n",
      "                pepper       1625         93       0.28      0.247       0.22      0.141      0.366      0.224      0.222      0.117\n",
      "                   pie       1625        126       0.36      0.362      0.312      0.257       0.34      0.286       0.26      0.192\n",
      "             pineapple       1625         11      0.347      0.455      0.461      0.305      0.397      0.455      0.461      0.319\n",
      "                 pizza       1625         10      0.112        0.1      0.187      0.171          0          0     0.0684      0.045\n",
      "                  pork       1625        147      0.249      0.367      0.231      0.188      0.231      0.248      0.215      0.166\n",
      "                potato       1625        255      0.551      0.749      0.657      0.549      0.574      0.722      0.632      0.522\n",
      "               pumpkin       1625          6       0.13      0.333      0.342      0.342       0.19      0.333      0.342      0.317\n",
      "                  rape       1625         14      0.234      0.286       0.29      0.263      0.225       0.25       0.29      0.265\n",
      "             raspberry       1625         18      0.249      0.221      0.171      0.103      0.256      0.167      0.198      0.103\n",
      "             red beans       1625          5      0.404        0.2     0.0993     0.0993      0.451        0.2     0.0993     0.0794\n",
      "                  rice       1625        163      0.636      0.761      0.777      0.636      0.677      0.757      0.767      0.634\n",
      "                 salad       1625          7       0.48      0.269      0.164      0.152       0.43      0.143      0.159      0.149\n",
      "                 sauce       1625        249      0.431      0.466      0.437       0.37       0.48      0.462      0.448      0.357\n",
      "               sausage       1625         38     0.0954      0.132      0.141      0.128      0.117      0.132      0.135       0.12\n",
      "               seaweed       1625          3          0          0          0          0          0          0          0          0\n",
      "             shellfish       1625          3      0.438      0.667       0.68      0.629      0.658      0.667      0.666      0.566\n",
      "              shiitake       1625         32      0.335      0.157      0.179      0.131      0.369      0.147       0.17      0.113\n",
      "                shrimp       1625         31      0.366      0.226       0.26      0.213      0.447      0.235      0.265      0.145\n",
      "             snow peas       1625         12      0.381       0.25      0.224      0.182      0.422       0.25       0.18      0.151\n",
      "                  soup       1625         18      0.299      0.611      0.456      0.438      0.299      0.556      0.407      0.392\n",
      "                   soy       1625         12      0.629      0.583      0.641      0.576      0.653      0.583      0.673      0.564\n",
      "          spring onion       1625         35      0.421      0.171      0.173      0.128      0.394      0.131      0.166     0.0823\n",
      "                 steak       1625        286      0.482      0.598      0.524      0.409      0.505      0.557      0.509      0.371\n",
      "            strawberry       1625        130       0.51       0.76      0.696      0.509      0.557      0.746      0.699      0.414\n",
      "                   tea       1625          3          0          0     0.0892     0.0682          0          0     0.0892     0.0532\n",
      "                  tofu       1625          3          0          0          0          0          0          0          0          0\n",
      "                tomato       1625        280      0.532      0.629      0.603      0.483      0.586      0.607      0.596      0.439\n",
      "                walnut       1625          9       0.41      0.111      0.226      0.201      0.501      0.111      0.217      0.164\n",
      "            watermelon       1625          1          1          0      0.124     0.0622          1          0      0.124     0.0622\n",
      " white button mushroom       1625         23       0.33      0.407      0.318      0.249      0.352      0.391      0.316      0.228\n",
      "          white radish       1625          9      0.454      0.463      0.534      0.421      0.532      0.444      0.518      0.391\n",
      "                  wine       1625         28       0.38      0.464      0.373      0.309       0.39      0.411      0.363      0.294\n",
      "      wonton dumplings       1625          8      0.214     0.0802      0.253      0.207      0.053     0.0199      0.253      0.219\n",
      "Speed: 1.1ms preprocess, 542.3ms inference, 0.0ms loss, 1.1ms postprocess per image\n",
      "Results saved to \u001b[1mruns/segment/val\u001b[0m\n"
     ]
    }
   ],
   "source": [
    "# loading the best trained model and validating\n",
    "path_checkpoint = \"/Users/marcelosouza/Documents/MBA_USP/5_TCC/Insulin_Suggester/Codes/Iterations_YOLOv8/20230412_yolov8s-seg_30epochs/runs/segment/train/weights/\"\n",
    "best_yolo_model = 'best.pt'\n",
    "path_yaml_modelS = \"/Users/marcelosouza/Documents/MBA_USP/5_TCC/Insulin_Suggester/Datasets/food v18.v1i.yolov8/data.yaml\"\n",
    "\n",
    "model = YOLO(path_checkpoint+best_yolo_model)\n",
    "device = torch.device(\"mps\")\n",
    "model.to(device)\n",
    "\n",
    "# for dark images validation\n",
    "metrics_dark = model.val(data=path_yaml_modelS)"
   ]
  }
 ],
 "metadata": {
  "kernelspec": {
   "display_name": "base",
   "language": "python",
   "name": "python3"
  },
  "language_info": {
   "codemirror_mode": {
    "name": "ipython",
    "version": 3
   },
   "file_extension": ".py",
   "mimetype": "text/x-python",
   "name": "python",
   "nbconvert_exporter": "python",
   "pygments_lexer": "ipython3",
   "version": "3.11.3"
  },
  "orig_nbformat": 4
 },
 "nbformat": 4,
 "nbformat_minor": 2
}
