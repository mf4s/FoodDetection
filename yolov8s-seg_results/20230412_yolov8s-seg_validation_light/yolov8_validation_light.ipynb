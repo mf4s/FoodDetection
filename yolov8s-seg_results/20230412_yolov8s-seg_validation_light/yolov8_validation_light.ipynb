{
 "cells": [
  {
   "cell_type": "code",
   "execution_count": 1,
   "metadata": {},
   "outputs": [],
   "source": [
    "# import Metal\n",
    "# import MetalPerformanceShaders as mps\n",
    "from ultralytics import YOLO\n",
    "import torch"
   ]
  },
  {
   "cell_type": "code",
   "execution_count": 2,
   "metadata": {},
   "outputs": [
    {
     "name": "stdout",
     "output_type": "stream",
     "text": [
      "tensor([1.], device='mps:0')\n"
     ]
    }
   ],
   "source": [
    "import torch\n",
    "if torch.backends.mps.is_available():\n",
    "    mps_device = torch.device(\"mps\")\n",
    "    x = torch.ones(1, device=mps_device)\n",
    "    print (x)\n",
    "else:\n",
    "    print (\"MPS device not found.\")"
   ]
  },
  {
   "cell_type": "code",
   "execution_count": 2,
   "metadata": {},
   "outputs": [
    {
     "name": "stderr",
     "output_type": "stream",
     "text": [
      "Ultralytics YOLOv8.0.105 🚀 Python-3.11.3 torch-2.0.1 CPU\n",
      "YOLOv8s-seg summary (fused): 195 layers, 11819461 parameters, 0 gradients, 42.7 GFLOPs\n",
      "\u001b[34m\u001b[1mval: \u001b[0mScanning /Users/marcelosouza/Documents/MBA_USP/5_TCC/Insulin_Suggester/Datasets/food v18.v1i.yolov8_disturbance_light/valid/labels... 1625 images, 2 backgrounds, 0 corrupt: 100%|██████████| 1625/1625 [00:00<00:00, 1899.83it/s]\n",
      "\u001b[34m\u001b[1mval: \u001b[0mNew cache created: /Users/marcelosouza/Documents/MBA_USP/5_TCC/Insulin_Suggester/Datasets/food v18.v1i.yolov8_disturbance_light/valid/labels.cache\n",
      "                 Class     Images  Instances      Box(P          R      mAP50  mAP50-95)     Mask(P          R      mAP50  mAP50-95): 100%|██████████| 102/102 [15:34<00:00,  9.16s/it]\n",
      "                   all       1625       5830      0.349      0.337      0.294      0.231       0.39       0.31      0.295      0.206\n",
      "          French beans       1625         98      0.671       0.51      0.635      0.521      0.737       0.48      0.616      0.463\n",
      "                almond       1625          3      0.154      0.333      0.175      0.119      0.165      0.333      0.168     0.0839\n",
      "                 apple       1625         39      0.249      0.256       0.17      0.117      0.279      0.231      0.157      0.104\n",
      "             asparagus       1625         52      0.394      0.662      0.581      0.427      0.392      0.596      0.517      0.365\n",
      "               avocado       1625         20      0.134      0.117     0.0701      0.053      0.177        0.1     0.0818     0.0554\n",
      "                banana       1625         43      0.462      0.419      0.421      0.337      0.451      0.372      0.392      0.294\n",
      "          bean sprouts       1625          8       0.37      0.125      0.214     0.0767      0.465      0.116      0.198      0.104\n",
      "               biscuit       1625         55      0.387      0.436      0.347      0.306      0.415      0.382      0.337      0.279\n",
      "             blueberry       1625         42       0.35      0.357      0.303       0.14      0.261      0.238      0.169     0.0716\n",
      "                 bread       1625        321      0.391      0.703      0.523      0.403      0.413      0.648      0.493      0.297\n",
      "              broccoli       1625        239      0.664      0.833      0.812      0.649      0.677      0.782      0.797      0.565\n",
      "               cabbage       1625         29      0.276      0.483      0.423      0.367      0.285      0.448      0.445      0.357\n",
      "                  cake       1625         92      0.251      0.587      0.347      0.251      0.226      0.478      0.245      0.138\n",
      "                carrot       1625        313      0.698      0.547      0.644      0.521      0.744      0.539      0.636      0.455\n",
      "           cauliflower       1625         55      0.384      0.491      0.455      0.296      0.427      0.447      0.466      0.274\n",
      "          celery stick       1625         49      0.567      0.531      0.477      0.349      0.669      0.531      0.489      0.313\n",
      "         cheese butter       1625         96      0.159     0.0729     0.0687     0.0315      0.208     0.0625     0.0694     0.0271\n",
      "                cherry       1625         31      0.163      0.258      0.106     0.0631       0.16      0.194     0.0798     0.0443\n",
      "          chicken duck       1625        324      0.336      0.568      0.377      0.286      0.352      0.528      0.359      0.249\n",
      "             chocolate       1625         12     0.0639      0.167     0.0436     0.0243     0.0391     0.0833     0.0251     0.0126\n",
      "         cilantro mint       1625        192      0.356      0.547      0.404      0.296      0.413      0.547      0.405      0.265\n",
      "                coffee       1625         43      0.413      0.651      0.634      0.574       0.46      0.674      0.658      0.545\n",
      "                  corn       1625        121      0.777      0.835      0.844       0.75      0.805      0.843      0.855      0.734\n",
      "                  crab       1625          1          1          0    0.00234    0.00163          1          0      0.995     0.0995\n",
      "              cucumber       1625        125      0.407      0.584      0.478      0.358      0.423      0.552      0.437      0.295\n",
      "                  date       1625          1          1          0     0.0284     0.0227          1          0     0.0284     0.0199\n",
      "     dried cranberries       1625          4          1          0      0.011    0.00712          1          0          0          0\n",
      "              egg tart       1625         56      0.308      0.518      0.387      0.323      0.353        0.5      0.391      0.263\n",
      "              eggplant       1625          1          0          0     0.0269     0.0215          1          0     0.0269     0.0242\n",
      "                   fig       1625          2          0          0    0.00298   0.000729          0          0    0.00117   0.000234\n",
      "                  fish       1625         78      0.292      0.372      0.313      0.266      0.328      0.321      0.307      0.234\n",
      "          french fries       1625         68      0.461      0.559      0.526      0.445      0.491      0.529      0.529      0.424\n",
      "            fried meat       1625         71      0.125      0.163      0.108     0.0819      0.175      0.141     0.0995     0.0721\n",
      "                garlic       1625         17      0.371     0.0588     0.0995     0.0944      0.535     0.0588      0.101     0.0932\n",
      "                ginger       1625          4      0.474       0.25      0.283      0.255          1          0      0.283      0.256\n",
      "                 grape       1625         27      0.552      0.519      0.526      0.464      0.613      0.481      0.504      0.413\n",
      "           green beans       1625         43       0.72      0.651      0.704      0.598      0.763      0.628      0.657      0.543\n",
      "               hamburg       1625          1          1          0     0.0255      0.023          1          0     0.0255    0.00765\n",
      "        hanamaki baozi       1625          8          0          0     0.0416     0.0407          0          0     0.0416      0.038\n",
      "             ice cream       1625        206      0.432      0.509      0.431      0.296      0.436      0.451      0.399      0.252\n",
      "                 juice       1625         32      0.477      0.598      0.424      0.352      0.489      0.531      0.404      0.317\n",
      "                  kiwi       1625         10      0.579        0.5      0.462      0.296      0.723        0.6      0.656      0.344\n",
      "                  lamb       1625         24      0.185       0.25      0.179      0.139      0.207      0.208       0.16      0.108\n",
      "                 lemon       1625        125      0.456        0.6      0.501      0.397      0.518      0.616      0.532       0.37\n",
      "               lettuce       1625        139      0.385      0.439      0.382      0.224       0.42      0.375      0.324      0.156\n",
      "                 mango       1625          6      0.127      0.167      0.185      0.173      0.176      0.167      0.185       0.17\n",
      "                 melon       1625          3      0.146      0.333      0.357      0.254      0.155      0.333      0.357      0.214\n",
      "                  milk       1625         12      0.451        0.5      0.467      0.325      0.616      0.583      0.537      0.355\n",
      "             milkshake       1625         21      0.439      0.667      0.572      0.471      0.449       0.66      0.572      0.454\n",
      "               noodles       1625         55      0.534      0.491      0.542      0.396      0.536      0.436      0.472      0.302\n",
      "                  okra       1625          1          1          0          0          0          1          0          0          0\n",
      "                olives       1625          7      0.382      0.109     0.0982     0.0757      0.255     0.0728     0.0758      0.061\n",
      "                 onion       1625        123      0.262      0.154      0.147     0.0967      0.219      0.106     0.0978     0.0589\n",
      "                orange       1625         55      0.424      0.428      0.365       0.27      0.488        0.4      0.361      0.251\n",
      "     other ingredients       1625        105      0.036    0.00952     0.0141    0.00796      0.113      0.019     0.0163    0.00738\n",
      "                 pasta       1625         45      0.512      0.489      0.465        0.4      0.544      0.444       0.46       0.38\n",
      "                 peach       1625          5      0.144        0.8       0.27      0.256      0.163        0.8       0.27      0.209\n",
      "                  pear       1625          4      0.111       0.25      0.082     0.0328      0.127       0.25      0.082     0.0656\n",
      "                pepper       1625         93      0.191      0.247      0.141     0.0792      0.223      0.247      0.145      0.071\n",
      "                   pie       1625        126      0.231      0.373      0.245      0.188      0.229      0.302      0.224      0.156\n",
      "             pineapple       1625         11      0.322      0.364      0.274      0.197      0.329      0.273      0.274      0.181\n",
      "                 pizza       1625         10     0.0586        0.2      0.137      0.133     0.0416        0.1     0.0273     0.0209\n",
      "                  pork       1625        147      0.204      0.246      0.198      0.158      0.217      0.184      0.178      0.132\n",
      "                potato       1625        255      0.488      0.663      0.584      0.473      0.505      0.604      0.558      0.445\n",
      "               pumpkin       1625          6      0.114      0.333      0.337      0.337      0.128      0.333      0.337      0.337\n",
      "                  rape       1625         14     0.0983      0.286      0.102       0.08      0.115      0.286      0.102     0.0816\n",
      "             raspberry       1625         18     0.0801     0.0556      0.125     0.0632      0.217      0.111      0.072     0.0276\n",
      "             red beans       1625          5      0.339        0.2      0.243      0.238      0.402        0.2      0.243      0.196\n",
      "                  rice       1625        163      0.607      0.681       0.69      0.536      0.653      0.663       0.68      0.543\n",
      "                 salad       1625          7      0.119     0.0512     0.0764     0.0728          0          0     0.0741     0.0704\n",
      "                 sauce       1625        249      0.391      0.442      0.402      0.325      0.436      0.438      0.402      0.312\n",
      "               sausage       1625         38     0.0579      0.132     0.0741     0.0624     0.0641      0.105     0.0688     0.0546\n",
      "               seaweed       1625          3          0          0          0          0          0          0          0          0\n",
      "             shellfish       1625          3       0.34      0.667      0.368      0.348       0.35      0.667      0.368      0.294\n",
      "              shiitake       1625         32          0          0     0.0677     0.0327          0          0     0.0454     0.0216\n",
      "                shrimp       1625         31      0.411     0.0968      0.183      0.133      0.588      0.093      0.189      0.111\n",
      "             snow peas       1625         12      0.265      0.124      0.128     0.0989      0.222     0.0833      0.115     0.0839\n",
      "                  soup       1625         18      0.289      0.611      0.369      0.341      0.247      0.511      0.332      0.303\n",
      "                   soy       1625         12      0.363      0.333      0.362      0.344      0.381      0.257      0.372       0.33\n",
      "          spring onion       1625         35      0.248      0.114      0.103     0.0741      0.284     0.0857      0.105     0.0411\n",
      "                 steak       1625        286      0.461      0.521      0.459      0.343      0.448      0.451      0.424      0.293\n",
      "            strawberry       1625        130      0.361      0.623      0.528      0.372      0.397      0.623      0.561      0.293\n",
      "                   tea       1625          3          0          0     0.0485     0.0395          0          0     0.0485     0.0358\n",
      "                  tofu       1625          3          0          0   0.000439   0.000439          0          0   0.000439   0.000439\n",
      "                tomato       1625        280      0.454      0.595      0.491      0.382      0.506      0.575       0.48      0.339\n",
      "                walnut       1625          9      0.282      0.111      0.158       0.15      0.306      0.111      0.138      0.118\n",
      "            watermelon       1625          1          0          0     0.0111    0.00995          0          0     0.0111    0.00663\n",
      " white button mushroom       1625         23      0.467      0.348      0.362      0.223      0.529      0.304      0.363      0.186\n",
      "          white radish       1625          9      0.526      0.333      0.393       0.29      0.542      0.333      0.383      0.298\n",
      "                  wine       1625         28      0.241      0.321      0.263      0.228      0.254       0.25       0.26      0.213\n",
      "      wonton dumplings       1625          8      0.271      0.125      0.236      0.207      0.338      0.125      0.236      0.206\n",
      "Speed: 1.2ms preprocess, 552.2ms inference, 0.0ms loss, 1.1ms postprocess per image\n",
      "Results saved to \u001b[1mruns/segment/val\u001b[0m\n"
     ]
    }
   ],
   "source": [
    "# loading the best trained model and validating\n",
    "path_checkpoint = \"/Users/marcelosouza/Documents/MBA_USP/5_TCC/Insulin_Suggester/Codes/Iterations_YOLOv8/20230412_yolov8s-seg_validation_light/weights/\"\n",
    "best_yolo_model = 'best.pt'\n",
    "path_yaml_light = \"/Users/marcelosouza/Documents/MBA_USP/5_TCC/Insulin_Suggester/Datasets/food v18.v1i.yolov8_disturbance_light/data.yaml\"\n",
    "\n",
    "model = YOLO(path_checkpoint+best_yolo_model)\n",
    "device = torch.device(\"mps\")\n",
    "model.to(device)\n",
    "\n",
    "# for dark images validation\n",
    "metrics_light = model.val(data=path_yaml_light)"
   ]
  }
 ],
 "metadata": {
  "kernelspec": {
   "display_name": "base",
   "language": "python",
   "name": "python3"
  },
  "language_info": {
   "codemirror_mode": {
    "name": "ipython",
    "version": 3
   },
   "file_extension": ".py",
   "mimetype": "text/x-python",
   "name": "python",
   "nbconvert_exporter": "python",
   "pygments_lexer": "ipython3",
   "version": "3.11.3"
  },
  "orig_nbformat": 4
 },
 "nbformat": 4,
 "nbformat_minor": 2
}
