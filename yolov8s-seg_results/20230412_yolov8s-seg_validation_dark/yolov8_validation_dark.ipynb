{
 "cells": [
  {
   "cell_type": "code",
   "execution_count": 1,
   "metadata": {},
   "outputs": [],
   "source": [
    "# import Metal\n",
    "# import MetalPerformanceShaders as mps\n",
    "from ultralytics import YOLO\n",
    "import torch"
   ]
  },
  {
   "cell_type": "code",
   "execution_count": 2,
   "metadata": {},
   "outputs": [
    {
     "name": "stdout",
     "output_type": "stream",
     "text": [
      "tensor([1.], device='mps:0')\n"
     ]
    }
   ],
   "source": [
    "import torch\n",
    "if torch.backends.mps.is_available():\n",
    "    mps_device = torch.device(\"mps\")\n",
    "    x = torch.ones(1, device=mps_device)\n",
    "    print (x)\n",
    "else:\n",
    "    print (\"MPS device not found.\")"
   ]
  },
  {
   "cell_type": "code",
   "execution_count": 3,
   "metadata": {},
   "outputs": [
    {
     "name": "stderr",
     "output_type": "stream",
     "text": [
      "Ultralytics YOLOv8.0.105 🚀 Python-3.11.3 torch-2.0.1 CPU\n",
      "YOLOv8s-seg summary (fused): 195 layers, 11819461 parameters, 0 gradients, 42.7 GFLOPs\n",
      "\u001b[34m\u001b[1mval: \u001b[0mScanning /Users/marcelosouza/Documents/MBA_USP/5_TCC/Insulin_Suggester/Datasets/food v18.v1i.yolov8_disturbance_dark/valid/labels... 1625 images, 2 backgrounds, 0 corrupt: 100%|██████████| 1625/1625 [00:01<00:00, 1105.40it/s]\n",
      "\u001b[34m\u001b[1mval: \u001b[0mNew cache created: /Users/marcelosouza/Documents/MBA_USP/5_TCC/Insulin_Suggester/Datasets/food v18.v1i.yolov8_disturbance_dark/valid/labels.cache\n",
      "                 Class     Images  Instances      Box(P          R      mAP50  mAP50-95)     Mask(P          R      mAP50  mAP50-95): 100%|██████████| 102/102 [15:08<00:00,  8.90s/it]\n",
      "                   all       1625       5830        0.4      0.188      0.171      0.132      0.395      0.182      0.162      0.114\n",
      "          French beans       1625         98      0.337     0.0204      0.263        0.2      0.334     0.0204      0.242      0.153\n",
      "                almond       1625          3          0          0    0.00251    0.00143          0          0    0.00125   0.000753\n",
      "                 apple       1625         39     0.0481     0.0256     0.0533     0.0298     0.0478     0.0256      0.044     0.0262\n",
      "             asparagus       1625         52      0.717      0.115      0.378      0.298      0.714      0.115      0.359      0.222\n",
      "               avocado       1625         20          0          0     0.0215     0.0096          0          0     0.0192     0.0101\n",
      "                banana       1625         43      0.298      0.302      0.244        0.2      0.274      0.279      0.233      0.193\n",
      "          bean sprouts       1625          8          0          0     0.0156    0.00606      0.241     0.0602     0.0788     0.0191\n",
      "               biscuit       1625         55      0.164      0.236      0.144      0.112      0.177      0.255      0.146     0.0964\n",
      "             blueberry       1625         42      0.774     0.0476      0.148     0.0682      0.385     0.0238     0.0566     0.0185\n",
      "                 bread       1625        321      0.367      0.433      0.354      0.251      0.331      0.393      0.312      0.168\n",
      "              broccoli       1625        239      0.702      0.395      0.537      0.416      0.684      0.385      0.506       0.35\n",
      "               cabbage       1625         29     0.0813      0.138     0.0547     0.0374     0.0811      0.138     0.0611     0.0394\n",
      "                  cake       1625         92      0.162      0.402      0.159      0.116      0.139      0.348      0.137     0.0936\n",
      "                carrot       1625        313       0.52      0.716      0.678      0.551       0.53       0.73      0.687      0.496\n",
      "           cauliflower       1625         55      0.268      0.345      0.208      0.131      0.279      0.364      0.218      0.095\n",
      "          celery stick       1625         49      0.158      0.531      0.192       0.13      0.152       0.51      0.177      0.117\n",
      "         cheese butter       1625         96     0.0698     0.0938      0.034     0.0195     0.0612     0.0833     0.0285     0.0158\n",
      "                cherry       1625         31     0.0738     0.0645     0.0981     0.0289     0.0737     0.0645     0.0462     0.0172\n",
      "          chicken duck       1625        324      0.419      0.238      0.284      0.225       0.43      0.247      0.277      0.207\n",
      "             chocolate       1625         12          0          0    0.00249    0.00166          0          0          0          0\n",
      "         cilantro mint       1625        192      0.437      0.151      0.216      0.141      0.464      0.161      0.206      0.126\n",
      "                coffee       1625         43      0.573      0.465      0.497      0.432      0.599      0.487      0.512      0.422\n",
      "                  corn       1625        121      0.507      0.752      0.664      0.579        0.5      0.744      0.657      0.559\n",
      "                  crab       1625          1          0          0          0          0          0          0          0          0\n",
      "              cucumber       1625        125      0.677      0.184      0.293      0.215      0.679      0.186      0.268      0.186\n",
      "                  date       1625          1          1          0          0          0          1          0          0          0\n",
      "     dried cranberries       1625          4          1          0          0          0          1          0          0          0\n",
      "              egg tart       1625         56      0.332      0.375      0.292      0.232      0.315      0.357      0.261      0.158\n",
      "              eggplant       1625          1          1          0          0          0          1          0          0          0\n",
      "                   fig       1625          2          1          0          0          0          1          0          0          0\n",
      "                  fish       1625         78      0.134      0.474      0.205       0.17      0.125      0.449      0.197      0.158\n",
      "          french fries       1625         68      0.368      0.265      0.288      0.221      0.368      0.265      0.275      0.204\n",
      "            fried meat       1625         71      0.497     0.0282     0.0656     0.0564      0.481     0.0282     0.0608     0.0529\n",
      "                garlic       1625         17     0.0705     0.0588     0.0677     0.0614       0.07     0.0588     0.0679     0.0604\n",
      "                ginger       1625          4          0          0     0.0193     0.0154          0          0     0.0193     0.0174\n",
      "                 grape       1625         27      0.179      0.333      0.199       0.16      0.158      0.296      0.189      0.138\n",
      "           green beans       1625         43          1       0.15       0.35      0.256          1      0.151      0.332      0.273\n",
      "               hamburg       1625          1          1          0      0.249      0.224          1          0      0.249     0.0498\n",
      "        hanamaki baozi       1625          8          0          0    0.00397     0.0032          0          0    0.00397    0.00298\n",
      "             ice cream       1625        206       0.14      0.495      0.223      0.162      0.123      0.437       0.19      0.133\n",
      "                 juice       1625         32      0.137       0.75      0.306      0.255       0.13      0.719      0.336      0.233\n",
      "                  kiwi       1625         10      0.667        0.2      0.214      0.169      0.661        0.2      0.215       0.17\n",
      "                  lamb       1625         24          1          0     0.0192     0.0173          1          0     0.0192     0.0181\n",
      "                 lemon       1625        125      0.335      0.472      0.361      0.281      0.324      0.457      0.348      0.232\n",
      "               lettuce       1625        139      0.228      0.381      0.198      0.109      0.205      0.345      0.158     0.0748\n",
      "                 mango       1625          6     0.0235      0.333      0.184      0.162     0.0117      0.167      0.175      0.137\n",
      "                 melon       1625          3          0          0    0.00138   0.000816          0          0    0.00138   0.000554\n",
      "                  milk       1625         12      0.145        0.5      0.274      0.195      0.144        0.5      0.283      0.194\n",
      "             milkshake       1625         21      0.262      0.667      0.434      0.318      0.261      0.667      0.434      0.346\n",
      "               noodles       1625         55      0.622      0.455      0.479      0.355      0.596      0.436       0.43      0.268\n",
      "                  okra       1625          1          1          0          0          0          1          0          0          0\n",
      "                olives       1625          7          1          0     0.0488     0.0333          1          0      0.046     0.0328\n",
      "                 onion       1625        123      0.166      0.065     0.0743     0.0459      0.145     0.0569     0.0658      0.037\n",
      "                orange       1625         55      0.368      0.254      0.228       0.15      0.366      0.255      0.215      0.126\n",
      "     other ingredients       1625        105      0.196     0.0381     0.0311    0.00897      0.193     0.0381     0.0341    0.00794\n",
      "                 pasta       1625         45      0.167      0.222      0.114     0.0902      0.146        0.2      0.103     0.0796\n",
      "                 peach       1625          5     0.0785        0.2      0.204      0.203     0.0783        0.2      0.204      0.203\n",
      "                  pear       1625          4          0          0     0.0161     0.0157          0          0     0.0161     0.0145\n",
      "                pepper       1625         93      0.171      0.204      0.128     0.0814      0.152      0.183      0.115      0.061\n",
      "                   pie       1625        126      0.272      0.103      0.133      0.102      0.267      0.103      0.117     0.0861\n",
      "             pineapple       1625         11     0.0424      0.364      0.126      0.103     0.0422      0.364      0.124      0.107\n",
      "                 pizza       1625         10          1          0     0.0279     0.0252          1          0    0.00877    0.00607\n",
      "                  pork       1625        147      0.234      0.102      0.128     0.0964      0.217     0.0952      0.115     0.0848\n",
      "                potato       1625        255      0.296      0.502       0.35      0.277      0.281      0.482      0.325      0.248\n",
      "               pumpkin       1625          6      0.117      0.224      0.194      0.194      0.125      0.242      0.194      0.194\n",
      "                  rape       1625         14          1          0    0.00621    0.00373          1          0    0.00621    0.00311\n",
      "             raspberry       1625         18          1          0     0.0909     0.0282          1          0     0.0486     0.0199\n",
      "             red beans       1625          5          1          0          0          0          1          0          0          0\n",
      "                  rice       1625        163      0.326      0.644      0.477      0.379      0.311      0.613      0.439      0.352\n",
      "                 salad       1625          7          1          0    0.00472    0.00472          1          0    0.00472    0.00472\n",
      "                 sauce       1625        249      0.241      0.333      0.234      0.192      0.235      0.325      0.224      0.175\n",
      "               sausage       1625         38          0          0     0.0152    0.00695          0          0     0.0124    0.00553\n",
      "               seaweed       1625          3          1          0          0          0          1          0          0          0\n",
      "             shellfish       1625          3          1          0      0.339      0.305          1          0      0.339      0.237\n",
      "              shiitake       1625         32          1          0     0.0638     0.0573          1          0     0.0586     0.0554\n",
      "                shrimp       1625         31      0.381       0.12      0.101     0.0833      0.383      0.121     0.0981     0.0618\n",
      "             snow peas       1625         12          0          0      0.032     0.0244          0          0     0.0214     0.0152\n",
      "                  soup       1625         18      0.333        0.5      0.318      0.291      0.293      0.444      0.269      0.233\n",
      "                   soy       1625         12      0.309     0.0833      0.174      0.161      0.307     0.0833      0.174      0.138\n",
      "          spring onion       1625         35      0.178      0.114     0.0691     0.0319      0.174      0.114     0.0647     0.0297\n",
      "                 steak       1625        286      0.636     0.0629      0.265      0.196      0.631     0.0629      0.242      0.177\n",
      "            strawberry       1625        130      0.544      0.367      0.474       0.33      0.545      0.369      0.437      0.244\n",
      "                   tea       1625          3          0          0     0.0122    0.00717          0          0     0.0122    0.00325\n",
      "                  tofu       1625          3          0          0   0.000291   0.000291          0          0   0.000291   0.000291\n",
      "                tomato       1625        280       0.35      0.543      0.459      0.371      0.366      0.568      0.463      0.331\n",
      "                walnut       1625          9          0          0     0.0191     0.0142          0          0    0.00911    0.00653\n",
      "            watermelon       1625          1          0          0    0.00732    0.00585          0          0    0.00732    0.00366\n",
      " white button mushroom       1625         23      0.328     0.0285     0.0862     0.0508      0.331     0.0288      0.099     0.0416\n",
      "          white radish       1625          9      0.961      0.222      0.228      0.206      0.957      0.222      0.228      0.183\n",
      "                  wine       1625         28      0.236      0.214      0.213      0.169      0.233      0.214      0.197      0.162\n",
      "      wonton dumplings       1625          8          1          0     0.0572     0.0521          1          0     0.0572     0.0426\n",
      "Speed: 1.4ms preprocess, 537.4ms inference, 0.0ms loss, 1.1ms postprocess per image\n",
      "Results saved to \u001b[1mruns/segment/val3\u001b[0m\n"
     ]
    }
   ],
   "source": [
    "# loading the best trained model and validating\n",
    "path_checkpoint = \"/Users/marcelosouza/Documents/MBA_USP/5_TCC/Insulin_Suggester/Codes/Iterations_YOLOv8/20230412_yolov8s-seg_validation_dark/weights/\"\n",
    "best_yolo_model = 'best.pt'\n",
    "path_yaml_dark = \"/Users/marcelosouza/Documents/MBA_USP/5_TCC/Insulin_Suggester/Datasets/food v18.v1i.yolov8_disturbance_dark/data.yaml\"\n",
    "\n",
    "model = YOLO(path_checkpoint+best_yolo_model)\n",
    "device = torch.device(\"mps\")\n",
    "model.to(device)\n",
    "\n",
    "# for dark images validation\n",
    "metrics_dark = model.val(data=path_yaml_dark)"
   ]
  }
 ],
 "metadata": {
  "kernelspec": {
   "display_name": "base",
   "language": "python",
   "name": "python3"
  },
  "language_info": {
   "codemirror_mode": {
    "name": "ipython",
    "version": 3
   },
   "file_extension": ".py",
   "mimetype": "text/x-python",
   "name": "python",
   "nbconvert_exporter": "python",
   "pygments_lexer": "ipython3",
   "version": "3.11.3"
  },
  "orig_nbformat": 4
 },
 "nbformat": 4,
 "nbformat_minor": 2
}
